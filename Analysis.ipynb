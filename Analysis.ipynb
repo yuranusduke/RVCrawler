{
 "cells": [
  {
   "cell_type": "markdown",
   "id": "d791ff61",
   "metadata": {},
   "source": [
    "# Simple Analysis on Scraped Data\n",
    "\n",
    "##### Created by Kunhong Yu\n",
    "##### Date: 2023/03/14\n",
    "\n",
    "In this short and simple notebook, we step through some basic analysis on scraped data on [RVs website](https://rv.campingworld.com/rvclass/motorhome-rvs). We argue one first takes a look at `REAME.md` file. Specifically, we use 'Diesel' as `fuel_type` and 159000 as `price_limit`."
   ]
  },
  {
   "cell_type": "code",
   "execution_count": 19,
   "id": "3d798bb4",
   "metadata": {},
   "outputs": [],
   "source": [
    "import pandas as pd\n",
    "import seaborn as sns\n",
    "import matplotlib.pyplot as plt\n",
    "import os\n",
    "import numpy as np\n",
    "from warnings import filterwarnings\n",
    "filterwarnings('ignore')\n",
    "\n",
    "data_path = '.'"
   ]
  },
  {
   "cell_type": "markdown",
   "id": "6bbb96d3",
   "metadata": {},
   "source": [
    "## 1. Loading Data"
   ]
  },
  {
   "cell_type": "code",
   "execution_count": null,
   "id": "e126175d",
   "metadata": {},
   "outputs": [],
   "source": [
    "files = os.listdir(data_path)\n",
    "file = list(filter(lambda x : x.endswith('csv'), files))[0]\n",
    "print(file)\n",
    "fuel_type = file.split('.')[0].split('_')[-2]\n",
    "price_limit = file.split('.')[0].split('_')[-1]\n",
    "print(f'fuel_type={fuel_type}, price_limit={price_limit}.')"
   ]
  },
  {
   "cell_type": "code",
   "execution_count": 10,
   "id": "5461b024",
   "metadata": {},
   "outputs": [
    {
     "data": {
      "text/html": [
       "<div>\n",
       "<style scoped>\n",
       "    .dataframe tbody tr th:only-of-type {\n",
       "        vertical-align: middle;\n",
       "    }\n",
       "\n",
       "    .dataframe tbody tr th {\n",
       "        vertical-align: top;\n",
       "    }\n",
       "\n",
       "    .dataframe thead th {\n",
       "        text-align: right;\n",
       "    }\n",
       "</style>\n",
       "<table border=\"1\" class=\"dataframe\">\n",
       "  <thead>\n",
       "    <tr style=\"text-align: right;\">\n",
       "      <th></th>\n",
       "      <th>newold</th>\n",
       "      <th>stock</th>\n",
       "      <th>sleeps</th>\n",
       "      <th>length</th>\n",
       "      <th>price</th>\n",
       "      <th>location</th>\n",
       "      <th>horsepower</th>\n",
       "    </tr>\n",
       "  </thead>\n",
       "  <tbody>\n",
       "    <tr>\n",
       "      <th>0</th>\n",
       "      <td>Used</td>\n",
       "      <td>Stock # 2113711</td>\n",
       "      <td>4</td>\n",
       "      <td>42 ft 6 in</td>\n",
       "      <td>88999.0</td>\n",
       "      <td>Sherman, TX</td>\n",
       "      <td>NaN</td>\n",
       "    </tr>\n",
       "    <tr>\n",
       "      <th>1</th>\n",
       "      <td>Used</td>\n",
       "      <td>Stock # 2081356</td>\n",
       "      <td>-</td>\n",
       "      <td>35 ft 0 in</td>\n",
       "      <td>50999.0</td>\n",
       "      <td>Katy, TX</td>\n",
       "      <td>NaN</td>\n",
       "    </tr>\n",
       "    <tr>\n",
       "      <th>2</th>\n",
       "      <td>Used</td>\n",
       "      <td>Stock # 2178973</td>\n",
       "      <td>2</td>\n",
       "      <td>25 ft 0 in</td>\n",
       "      <td>59999.0</td>\n",
       "      <td>Center Conway, NH</td>\n",
       "      <td>NaN</td>\n",
       "    </tr>\n",
       "    <tr>\n",
       "      <th>3</th>\n",
       "      <td>Used</td>\n",
       "      <td>Stock # 2204010</td>\n",
       "      <td>4</td>\n",
       "      <td>25 ft 0 in</td>\n",
       "      <td>61999.0</td>\n",
       "      <td>Lubbock, TX</td>\n",
       "      <td>NaN</td>\n",
       "    </tr>\n",
       "    <tr>\n",
       "      <th>4</th>\n",
       "      <td>Used</td>\n",
       "      <td>Stock # 2193644</td>\n",
       "      <td>5</td>\n",
       "      <td>29 ft 10 in</td>\n",
       "      <td>64699.0</td>\n",
       "      <td>Thornburg, VA</td>\n",
       "      <td>NaN</td>\n",
       "    </tr>\n",
       "  </tbody>\n",
       "</table>\n",
       "</div>"
      ],
      "text/plain": [
       "  newold            stock sleeps       length    price           location  \\\n",
       "0   Used  Stock # 2113711      4   42 ft 6 in  88999.0        Sherman, TX   \n",
       "1   Used  Stock # 2081356      -   35 ft 0 in  50999.0           Katy, TX   \n",
       "2   Used  Stock # 2178973      2   25 ft 0 in  59999.0  Center Conway, NH   \n",
       "3   Used  Stock # 2204010      4   25 ft 0 in  61999.0        Lubbock, TX   \n",
       "4   Used  Stock # 2193644      5  29 ft 10 in  64699.0      Thornburg, VA   \n",
       "\n",
       "   horsepower  \n",
       "0         NaN  \n",
       "1         NaN  \n",
       "2         NaN  \n",
       "3         NaN  \n",
       "4         NaN  "
      ]
     },
     "execution_count": 10,
     "metadata": {},
     "output_type": "execute_result"
    }
   ],
   "source": [
    "df = pd.read_csv(file, index_col = False).iloc[:, 1:]\n",
    "df.head()"
   ]
  },
  {
   "cell_type": "markdown",
   "id": "9465711b",
   "metadata": {},
   "source": [
    "## 2. Basic Analysis"
   ]
  },
  {
   "cell_type": "code",
   "execution_count": 13,
   "id": "041bf152",
   "metadata": {},
   "outputs": [
    {
     "data": {
      "text/plain": [
       "newold          0\n",
       "stock           0\n",
       "sleeps          9\n",
       "length          0\n",
       "price           0\n",
       "location        0\n",
       "horsepower    636\n",
       "dtype: int64"
      ]
     },
     "execution_count": 13,
     "metadata": {},
     "output_type": "execute_result"
    }
   ],
   "source": [
    "# 2.1 check missing values\n",
    "# as we can see 'sleeps' has '-', which denotes missing values, we first replace\n",
    "df.sleeps = df.sleeps.replace('-', np.nan)\n",
    "df.isnull().sum()"
   ]
  },
  {
   "cell_type": "markdown",
   "id": "9f96b10c",
   "metadata": {},
   "source": [
    "As we can see, some vehicles don't have `sleeps` denoted and horsepower is null when price is lower than `price_limit` and when don't have to scrape it or it does not exist in another page. Next, take a look at each feature one by one."
   ]
  },
  {
   "cell_type": "code",
   "execution_count": 15,
   "id": "0744ea70",
   "metadata": {},
   "outputs": [
    {
     "data": {
      "text/plain": [
       "array(['Used', 'New'], dtype=object)"
      ]
     },
     "execution_count": 15,
     "metadata": {},
     "output_type": "execute_result"
    }
   ],
   "source": [
    "# 2.2 Features\n",
    "# 2.2.1 newold\n",
    "df.newold.unique()"
   ]
  },
  {
   "cell_type": "code",
   "execution_count": 17,
   "id": "217db1a3",
   "metadata": {},
   "outputs": [
    {
     "data": {
      "text/plain": [
       "New     0.767951\n",
       "Used    0.232049\n",
       "Name: newold, dtype: float64"
      ]
     },
     "execution_count": 17,
     "metadata": {},
     "output_type": "execute_result"
    }
   ],
   "source": [
    "df.newold.value_counts(normalize = True)"
   ]
  },
  {
   "cell_type": "code",
   "execution_count": 40,
   "id": "c0bcb25e",
   "metadata": {},
   "outputs": [
    {
     "data": {
      "text/plain": [
       "<AxesSubplot:xlabel='newold', ylabel='count'>"
      ]
     },
     "execution_count": 40,
     "metadata": {},
     "output_type": "execute_result"
    },
    {
     "data": {
      "image/png": "[encoded data removed]",
      "text/plain": [
       "<Figure size 432x288 with 1 Axes>"
      ]
     },
     "metadata": {
      "needs_background": "light"
     },
     "output_type": "display_data"
    }
   ],
   "source": [
    "sns.countplot(df.newold)"
   ]
  },
  {
   "cell_type": "markdown",
   "id": "739b3b8a",
   "metadata": {},
   "source": [
    "As we can see, most of them are new."
   ]
  },
  {
   "cell_type": "code",
   "execution_count": 22,
   "id": "6edc5609",
   "metadata": {},
   "outputs": [
    {
     "name": "stdout",
     "output_type": "stream",
     "text": [
      "383\n"
     ]
    },
    {
     "data": {
      "text/plain": [
       "False"
      ]
     },
     "execution_count": 22,
     "metadata": {},
     "output_type": "execute_result"
    }
   ],
   "source": [
    "# 2.2.2 stock\n",
    "print(len(df.stock.unique()))\n",
    "len(df.stock.unique()) == len(df)"
   ]
  },
  {
   "cell_type": "code",
   "execution_count": 41,
   "id": "903e2da7",
   "metadata": {},
   "outputs": [
    {
     "data": {
      "text/plain": [
       "<AxesSubplot:xlabel='stock', ylabel='Density'>"
      ]
     },
     "execution_count": 41,
     "metadata": {},
     "output_type": "execute_result"
    },
    {
     "data": {
      "image/png": "[encoded data removed]",
      "text/plain": [
       "<Figure size 432x288 with 1 Axes>"
      ]
     },
     "metadata": {
      "needs_background": "light"
     },
     "output_type": "display_data"
    }
   ],
   "source": [
    "sns.kdeplot(df.stock.value_counts(), color = 'purple')"
   ]
  },
  {
   "cell_type": "markdown",
   "id": "fd220b06",
   "metadata": {},
   "source": [
    "From above, we can see stock is not unique for each vehicle and moreover, some of stocks have most about 40 vehicles."
   ]
  },
  {
   "cell_type": "code",
   "execution_count": 42,
   "id": "509afad2",
   "metadata": {},
   "outputs": [
    {
     "data": {
      "text/plain": [
       "<AxesSubplot:xlabel='sleeps', ylabel='Count'>"
      ]
     },
     "execution_count": 42,
     "metadata": {},
     "output_type": "execute_result"
    },
    {
     "data": {
      "image/png": "[encoded data removed]",
      "text/plain": [
       "<Figure size 432x288 with 1 Axes>"
      ]
     },
     "metadata": {
      "needs_background": "light"
     },
     "output_type": "display_data"
    }
   ],
   "source": [
    "# 2.2.3 sleeps\n",
    "sleeps = df.sleeps.dropna()\n",
    "sns.histplot(sleeps, kde = True, color = 'green')"
   ]
  },
  {
   "cell_type": "markdown",
   "id": "081c4115",
   "metadata": {},
   "source": [
    "As can be observed, most of vehicles have 5 sleeps and vehicles have at most 9 sleeps."
   ]
  },
  {
   "cell_type": "code",
   "execution_count": 37,
   "id": "cf4eddda",
   "metadata": {},
   "outputs": [
    {
     "data": {
      "text/plain": [
       "count     1142\n",
       "unique      27\n",
       "top         25\n",
       "freq       547\n",
       "Name: length, dtype: object"
      ]
     },
     "execution_count": 37,
     "metadata": {},
     "output_type": "execute_result"
    }
   ],
   "source": [
    "# 2.2.4 length\n",
    "# for this column, we only keep ft\n",
    "length = df.length.str.split(' ').map(lambda x : x[0])\n",
    "length.describe()"
   ]
  },
  {
   "cell_type": "code",
   "execution_count": 45,
   "id": "4dad823d",
   "metadata": {},
   "outputs": [
    {
     "data": {
      "text/plain": [
       "<AxesSubplot:xlabel='length', ylabel='Count'>"
      ]
     },
     "execution_count": 45,
     "metadata": {},
     "output_type": "execute_result"
    },
    {
     "data": {
      "image/png": "[encoded data removed]",
      "text/plain": [
       "<Figure size 576x360 with 1 Axes>"
      ]
     },
     "metadata": {
      "needs_background": "light"
     },
     "output_type": "display_data"
    }
   ],
   "source": [
    "fig = plt.figure(figsize = (8, 5))\n",
    "sns.histplot(length, kde = True, color = 'red')"
   ]
  },
  {
   "cell_type": "markdown",
   "id": "aa3a7d7f",
   "metadata": {},
   "source": [
    "25, 19 and 24 are more common in length, and only 27 unique values."
   ]
  },
  {
   "cell_type": "code",
   "execution_count": 46,
   "id": "81963362",
   "metadata": {},
   "outputs": [
    {
     "data": {
      "text/plain": [
       "count      1142.000000\n",
       "mean     146979.294221\n",
       "std       28128.751963\n",
       "min       50999.000000\n",
       "25%      141592.500000\n",
       "50%      158457.000000\n",
       "75%      159995.000000\n",
       "max      341999.000000\n",
       "Name: price, dtype: float64"
      ]
     },
     "execution_count": 46,
     "metadata": {},
     "output_type": "execute_result"
    }
   ],
   "source": [
    "# 2.2.5 price\n",
    "df.price.describe()"
   ]
  },
  {
   "cell_type": "code",
   "execution_count": 51,
   "id": "975317c0",
   "metadata": {},
   "outputs": [
    {
     "data": {
      "text/plain": [
       "<AxesSubplot:xlabel='price', ylabel='Density'>"
      ]
     },
     "execution_count": 51,
     "metadata": {},
     "output_type": "execute_result"
    },
    {
     "data": {
      "image/png": "[encoded data removed]",
      "text/plain": [
       "<Figure size 864x360 with 2 Axes>"
      ]
     },
     "metadata": {
      "needs_background": "light"
     },
     "output_type": "display_data"
    }
   ],
   "source": [
    "_, ax = plt.subplots(1, 2, figsize = (12, 5))\n",
    "sns.violinplot(df.price, color = 'yellow', ax = ax[0])\n",
    "sns.kdeplot(df.price, color = 'blue', ax = ax[1])"
   ]
  },
  {
   "cell_type": "markdown",
   "id": "a99a5df5",
   "metadata": {},
   "source": [
    "As we can see, most of prices are centering around 150000, but price is like gaussian but with very low variance."
   ]
  },
  {
   "cell_type": "code",
   "execution_count": 53,
   "id": "a732ac5b",
   "metadata": {},
   "outputs": [
    {
     "data": {
      "text/plain": [
       "Vacaville, CA                                       157\n",
       "Katy, TX                                            126\n",
       "Fresno, CA                                           82\n",
       "Las Vegas, NV                                        82\n",
       "Colton, CA                                           81\n",
       "                                                   ... \n",
       "Forest Lake, MN                                       1\n",
       "RVs.com Showroom Wheat Ridge -\\n Wheat Ridge, CO      1\n",
       "Huber Heights, OH                                     1\n",
       "Hope Mills, NC                                        1\n",
       "Pocatello, ID                                         1\n",
       "Name: location, Length: 133, dtype: int64"
      ]
     },
     "execution_count": 53,
     "metadata": {},
     "output_type": "execute_result"
    }
   ],
   "source": [
    "# 2.2.6 location\n",
    "location = df.location.str.replace(' {2,}', ' ') # regular expression\n",
    "location.value_counts()\n",
    "# most of them are from Vacaville, CA"
   ]
  },
  {
   "cell_type": "code",
   "execution_count": 54,
   "id": "a8add275",
   "metadata": {},
   "outputs": [
    {
     "data": {
      "text/plain": [
       "array([188., 360., 330., 350., 450., 300., 340., 380.])"
      ]
     },
     "execution_count": 54,
     "metadata": {},
     "output_type": "execute_result"
    }
   ],
   "source": [
    "# 2.2.7 horsepower\n",
    "# we know that horsepower are most in NaN, we drop them first\n",
    "hp = df.horsepower.dropna()\n",
    "hp.unique()"
   ]
  },
  {
   "cell_type": "code",
   "execution_count": 59,
   "id": "e65fda7e",
   "metadata": {},
   "outputs": [
    {
     "data": {
      "text/plain": [
       "<AxesSubplot:xlabel='horsepower', ylabel='count'>"
      ]
     },
     "execution_count": 59,
     "metadata": {},
     "output_type": "execute_result"
    },
    {
     "data": {
      "image/png": "[encoded data removed]",
      "text/plain": [
       "<Figure size 432x288 with 1 Axes>"
      ]
     },
     "metadata": {
      "needs_background": "light"
     },
     "output_type": "display_data"
    }
   ],
   "source": [
    "sns.countplot(hp, color = 'pink', alpha = 0.9)\n",
    "# most of them are 188, largest one is 450"
   ]
  },
  {
   "cell_type": "code",
   "execution_count": 60,
   "id": "8b09b832",
   "metadata": {},
   "outputs": [
    {
     "data": {
      "text/plain": [
       "<AxesSubplot:xlabel='newold', ylabel='price'>"
      ]
     },
     "execution_count": 60,
     "metadata": {},
     "output_type": "execute_result"
    },
    {
     "data": {
      "image/png": "[encoded data removed]",
      "text/plain": [
       "<Figure size 432x288 with 1 Axes>"
      ]
     },
     "metadata": {
      "needs_background": "light"
     },
     "output_type": "display_data"
    }
   ],
   "source": [
    "# 2.2.8 newold v.s. price\n",
    "sns.boxplot(df.newold, df.price)"
   ]
  },
  {
   "cell_type": "markdown",
   "id": "068919a5",
   "metadata": {},
   "source": [
    "As we can see new ones are more expensive than second-hand ones."
   ]
  },
  {
   "cell_type": "code",
   "execution_count": 76,
   "id": "2352f63a",
   "metadata": {},
   "outputs": [
    {
     "name": "stdout",
     "output_type": "stream",
     "text": [
      "   length          price\n",
      "0     0.0  113165.666667\n",
      "1    19.0  138999.000000\n",
      "2    19.0  159870.949239\n",
      "3    19.0  130045.978261\n",
      "4     2.0   88999.000000\n",
      "corr is : 0.5012139166696623\n"
     ]
    },
    {
     "data": {
      "image/png": "[encoded data removed]",
      "text/plain": [
       "<Figure size 432x360 with 1 Axes>"
      ]
     },
     "metadata": {
      "needs_background": "light"
     },
     "output_type": "display_data"
    }
   ],
   "source": [
    "# 2.2.8 price v.s. length v.s. newold\n",
    "fig = plt.figure(figsize = (6, 5))\n",
    "sub = df.groupby('length').agg({'price': np.mean}).reset_index()\n",
    "sub.length = sub.length.str.split(' ').map(lambda x : x[0]).map(float)\n",
    "print(sub.head())\n",
    "sns.scatterplot(sub.length, sub.price)\n",
    "print('corr is :', sub.corr().values[0][1])"
   ]
  },
  {
   "cell_type": "markdown",
   "id": "903b8580",
   "metadata": {},
   "source": [
    "On average, when length is larger price is higher. But pearson correlation is only 0.5012139166696623."
   ]
  },
  {
   "cell_type": "code",
   "execution_count": 92,
   "id": "d6a4cae1",
   "metadata": {},
   "outputs": [
    {
     "data": {
      "text/plain": [
       "<AxesSubplot:xlabel='newold', ylabel='price'>"
      ]
     },
     "execution_count": 92,
     "metadata": {},
     "output_type": "execute_result"
    },
    {
     "data": {
      "image/png": "[encoded data removed]",
      "text/plain": [
       "<Figure size 720x360 with 1 Axes>"
      ]
     },
     "metadata": {
      "needs_background": "light"
     },
     "output_type": "display_data"
    }
   ],
   "source": [
    "# 2.2.8 location v.s. price v.s. newold\n",
    "thres = 100\n",
    "x = df.location.value_counts()\n",
    "m = df.location.isin(x.index[ x < 50])\n",
    "df2 = df.copy()\n",
    "df2.loc[m, 'location'] = 'Other'\n",
    "fig = plt.figure(figsize = (10, 5))\n",
    "sns.boxplot(df2.newold, df2.price, hue = df2.location,)"
   ]
  },
  {
   "cell_type": "markdown",
   "id": "7cb1ada0",
   "metadata": {},
   "source": [
    "As can be seen, some areas are more expensive than other areas, but overall, as we mentioned before, new ones are more expensive."
   ]
  },
  {
   "cell_type": "code",
   "execution_count": null,
   "id": "6579b78d",
   "metadata": {},
   "outputs": [],
   "source": []
  }
 ],
 "metadata": {
  "kernelspec": {
   "display_name": "Python 3 (ipykernel)",
   "language": "python",
   "name": "python3"
  },
  "language_info": {
   "codemirror_mode": {
    "name": "ipython",
    "version": 3
   },
   "file_extension": ".py",
   "mimetype": "text/x-python",
   "name": "python",
   "nbconvert_exporter": "python",
   "pygments_lexer": "ipython3",
   "version": "3.8.13"
  }
 },
 "nbformat": 4,
 "nbformat_minor": 5
}
